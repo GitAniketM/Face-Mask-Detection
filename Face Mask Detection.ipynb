{
 "cells": [
  {
   "cell_type": "markdown",
   "id": "0df635ae",
   "metadata": {},
   "source": [
    "### Import all the necessary packages"
   ]
  },
  {
   "cell_type": "code",
   "execution_count": 11,
   "id": "fd3b3594",
   "metadata": {},
   "outputs": [],
   "source": [
    "from tensorflow.keras.preprocessing.image import ImageDataGenerator\n",
    "from tensorflow.keras.applications import MobileNetV2\n",
    "from tensorflow.keras.layers import AveragePooling2D\n",
    "from tensorflow.keras.layers import Dropout\n",
    "from tensorflow.keras.layers import Flatten\n",
    "from tensorflow.keras.layers import Dense\n",
    "from tensorflow.keras.layers import Input\n",
    "from tensorflow.keras.models import Model\n",
    "from tensorflow.keras.optimizers import Adam\n",
    "from tensorflow.keras.applications.mobilenet_v2 import preprocess_input\n",
    "from tensorflow.keras.preprocessing.image import img_to_array\n",
    "from tensorflow.keras.preprocessing.image import load_img\n",
    "from tensorflow.keras.utils import to_categorical\n",
    "from sklearn.preprocessing import LabelBinarizer\n",
    "from sklearn.model_selection import train_test_split\n",
    "from sklearn.metrics import classification_report\n",
    "from imutils import paths\n",
    "import matplotlib.pyplot as plt\n",
    "import numpy as np\n",
    "import os"
   ]
  },
  {
   "cell_type": "code",
   "execution_count": 6,
   "id": "09ef2420",
   "metadata": {},
   "outputs": [],
   "source": [
    "# initialize the initial learning rate, number of epochs to train for, and batch size\n",
    "INIT_LR = 1e-4\n",
    "EPOCHS = 20\n",
    "BS = 32"
   ]
  },
  {
   "cell_type": "code",
   "execution_count": 15,
   "id": "976e48a8",
   "metadata": {},
   "outputs": [],
   "source": [
    "DIRECTORY = r\"C:\\Users\\Aniket\\Desktop\\Face-Mask-Detection\\dataset\""
   ]
  },
  {
   "cell_type": "code",
   "execution_count": 16,
   "id": "f1e285c3",
   "metadata": {},
   "outputs": [],
   "source": [
    "CATEGORIES = [\"with_mask\", \"without_mask\"]"
   ]
  },
  {
   "cell_type": "code",
   "execution_count": 17,
   "id": "f565d1d9",
   "metadata": {},
   "outputs": [
    {
     "name": "stdout",
     "output_type": "stream",
     "text": [
      "[INFO] loading images..\n"
     ]
    }
   ],
   "source": [
    "# grab the list of images in our dataset directory, then initialize\n",
    "# the list of data(i.e, images) and class images\n",
    "print(\"[INFO] loading images..\")"
   ]
  },
  {
   "cell_type": "code",
   "execution_count": 18,
   "id": "29391082",
   "metadata": {},
   "outputs": [
    {
     "name": "stderr",
     "output_type": "stream",
     "text": [
      "C:\\Users\\Aniket\\anaconda3\\envs\\deeplearning\\lib\\site-packages\\PIL\\Image.py:973: UserWarning: Palette images with Transparency expressed in bytes should be converted to RGBA images\n",
      "  warnings.warn(\n"
     ]
    }
   ],
   "source": [
    "data = []\n",
    "labels = []\n",
    "\n",
    "for category in CATEGORIES:\n",
    "    path = os.path.join(DIRECTORY, category)\n",
    "    for img in os.listdir(path):\n",
    "        img_path = os.path.join(path, img)\n",
    "        image = load_img(img_path, target_size=(224,224))\n",
    "        image = img_to_array(image)\n",
    "        image = preprocess_input(image)\n",
    "        \n",
    "        data.append(image)\n",
    "        labels.append(category)"
   ]
  },
  {
   "cell_type": "code",
   "execution_count": 19,
   "id": "5e92ac8b",
   "metadata": {},
   "outputs": [],
   "source": [
    "# perform one hot encoding on the labels\n",
    "lb = LabelBinarizer()\n",
    "labels = lb.fit_transform(labels)\n",
    "labels = to_categorical(labels)"
   ]
  },
  {
   "cell_type": "code",
   "execution_count": 20,
   "id": "e1518973",
   "metadata": {},
   "outputs": [],
   "source": [
    "data = np.array(data, dtype=\"float32\")\n",
    "labels = np.array(labels)"
   ]
  },
  {
   "cell_type": "code",
   "execution_count": 21,
   "id": "8050f78a",
   "metadata": {},
   "outputs": [],
   "source": [
    "trainX, testX, trainY, testY = train_test_split(data, labels, test_size=0.20,\n",
    "                                               stratify=labels, random_state=42)"
   ]
  },
  {
   "cell_type": "code",
   "execution_count": 22,
   "id": "15f00515",
   "metadata": {},
   "outputs": [],
   "source": [
    "# construct the training image generator for data generation\n",
    "aug = ImageDataGenerator(rotation_range=20,\n",
    "                        zoom_range = 0.15,\n",
    "                        width_shift_range=0.2,\n",
    "                        height_shift_range=0.2,\n",
    "                        shear_range=0.15,\n",
    "                        horizontal_flip = True)"
   ]
  },
  {
   "cell_type": "code",
   "execution_count": 19,
   "id": "94944f2c",
   "metadata": {},
   "outputs": [
    {
     "name": "stdout",
     "output_type": "stream",
     "text": [
      "WARNING:tensorflow:`input_shape` is undefined or non-square, or `rows` is not in [96, 128, 160, 192, 224]. Weights for input shape (224, 224) will be loaded as the default.\n",
      "Downloading data from https://storage.googleapis.com/tensorflow/keras-applications/mobilenet_v2/mobilenet_v2_weights_tf_dim_ordering_tf_kernels_1.0_224_no_top.h5\n",
      "9412608/9406464 [==============================] - 58s 6us/step\n"
     ]
    }
   ],
   "source": [
    "# load the mobilenetV2 network, ensuring the head FC layer sets are left off\n",
    "baseModel = MobileNetV2(weights=\"imagenet\", include_top=False,\n",
    "                       input_tensor=Input(shape=(224,224,3)))"
   ]
  },
  {
   "cell_type": "code",
   "execution_count": 20,
   "id": "cd4bfaf3",
   "metadata": {},
   "outputs": [],
   "source": [
    "# Construct the head of the model that will be placed on top of the base model\n",
    "headModel = baseModel.output\n",
    "headModel = AveragePooling2D(pool_size=(7,7))(headModel)\n",
    "headModel = Flatten(name=\"flatten\")(headModel)\n",
    "headModel = Dense(128, activation=\"relu\")(headModel)\n",
    "headModel = Dropout(0.5)(headModel)\n",
    "headModel = Dense(2, activation=\"softmax\")(headModel)"
   ]
  },
  {
   "cell_type": "code",
   "execution_count": 21,
   "id": "44a22aa5",
   "metadata": {},
   "outputs": [],
   "source": [
    "# place the head FC model on the top of the base model (this will become\n",
    "# actual model we will train)\n",
    "model = Model(inputs = baseModel.input, outputs=headModel)"
   ]
  },
  {
   "cell_type": "code",
   "execution_count": 22,
   "id": "59497f2c",
   "metadata": {},
   "outputs": [],
   "source": [
    "# loop over all layers in the baseModel and freeze them so they will not be \n",
    "# updated during the first training process\n",
    "for layer in baseModel.layers:\n",
    "    layer.trainable=False"
   ]
  },
  {
   "cell_type": "code",
   "execution_count": 23,
   "id": "8546e6c1",
   "metadata": {},
   "outputs": [
    {
     "name": "stdout",
     "output_type": "stream",
     "text": [
      "[INFO] compiling model...\n"
     ]
    },
    {
     "name": "stderr",
     "output_type": "stream",
     "text": [
      "C:\\Users\\Aniket\\anaconda3\\envs\\deeplearning\\lib\\site-packages\\tensorflow\\python\\keras\\optimizer_v2\\optimizer_v2.py:374: UserWarning: The `lr` argument is deprecated, use `learning_rate` instead.\n",
      "  warnings.warn(\n"
     ]
    }
   ],
   "source": [
    "# compile our model\n",
    "print(\"[INFO] compiling model...\")\n",
    "opt = Adam(lr=INIT_LR, decay=INIT_LR/EPOCHS)\n",
    "model.compile(loss=\"binary_crossentropy\", optimizer=opt,\n",
    "             metrics=[\"accuracy\"])"
   ]
  },
  {
   "cell_type": "code",
   "execution_count": 25,
   "id": "e3308b5d",
   "metadata": {},
   "outputs": [
    {
     "name": "stdout",
     "output_type": "stream",
     "text": [
      "Epoch 1/20\n",
      "95/95 [==============================] - 213s 2s/step - loss: 0.4077 - accuracy: 0.8487 - val_loss: 0.1529 - val_accuracy: 0.9909\n",
      "Epoch 2/20\n",
      "95/95 [==============================] - 193s 2s/step - loss: 0.1608 - accuracy: 0.9618 - val_loss: 0.0815 - val_accuracy: 0.9909\n",
      "Epoch 3/20\n",
      "95/95 [==============================] - 212s 2s/step - loss: 0.1129 - accuracy: 0.9687 - val_loss: 0.0592 - val_accuracy: 0.9909\n",
      "Epoch 4/20\n",
      "95/95 [==============================] - 172s 2s/step - loss: 0.0841 - accuracy: 0.9792 - val_loss: 0.0475 - val_accuracy: 0.9909\n",
      "Epoch 5/20\n",
      "95/95 [==============================] - 161s 2s/step - loss: 0.0641 - accuracy: 0.9845 - val_loss: 0.0420 - val_accuracy: 0.9909\n",
      "Epoch 6/20\n",
      "95/95 [==============================] - 164s 2s/step - loss: 0.0642 - accuracy: 0.9812 - val_loss: 0.0380 - val_accuracy: 0.9909\n",
      "Epoch 7/20\n",
      "95/95 [==============================] - 165s 2s/step - loss: 0.0539 - accuracy: 0.9865 - val_loss: 0.0355 - val_accuracy: 0.9909\n",
      "Epoch 8/20\n",
      "95/95 [==============================] - 164s 2s/step - loss: 0.0505 - accuracy: 0.9855 - val_loss: 0.0345 - val_accuracy: 0.9922\n",
      "Epoch 9/20\n",
      "95/95 [==============================] - 163s 2s/step - loss: 0.0432 - accuracy: 0.9891 - val_loss: 0.0325 - val_accuracy: 0.9922\n",
      "Epoch 10/20\n",
      "95/95 [==============================] - 164s 2s/step - loss: 0.0462 - accuracy: 0.9862 - val_loss: 0.0323 - val_accuracy: 0.9909\n",
      "Epoch 11/20\n",
      "95/95 [==============================] - 164s 2s/step - loss: 0.0371 - accuracy: 0.9891 - val_loss: 0.0336 - val_accuracy: 0.9922\n",
      "Epoch 12/20\n",
      "95/95 [==============================] - 164s 2s/step - loss: 0.0361 - accuracy: 0.9895 - val_loss: 0.0327 - val_accuracy: 0.9909\n",
      "Epoch 13/20\n",
      "95/95 [==============================] - 165s 2s/step - loss: 0.0367 - accuracy: 0.9901 - val_loss: 0.0319 - val_accuracy: 0.9909\n",
      "Epoch 14/20\n",
      "95/95 [==============================] - 163s 2s/step - loss: 0.0323 - accuracy: 0.9918 - val_loss: 0.0274 - val_accuracy: 0.9922\n",
      "Epoch 15/20\n",
      "95/95 [==============================] - 166s 2s/step - loss: 0.0264 - accuracy: 0.9934 - val_loss: 0.0268 - val_accuracy: 0.9909\n",
      "Epoch 16/20\n",
      "95/95 [==============================] - 164s 2s/step - loss: 0.0265 - accuracy: 0.9927 - val_loss: 0.0265 - val_accuracy: 0.9909\n",
      "Epoch 17/20\n",
      "95/95 [==============================] - 165s 2s/step - loss: 0.0260 - accuracy: 0.9937 - val_loss: 0.0265 - val_accuracy: 0.9909\n",
      "Epoch 18/20\n",
      "95/95 [==============================] - 168s 2s/step - loss: 0.0250 - accuracy: 0.9927 - val_loss: 0.0267 - val_accuracy: 0.9922\n",
      "Epoch 19/20\n",
      "95/95 [==============================] - 201s 2s/step - loss: 0.0247 - accuracy: 0.9934 - val_loss: 0.0248 - val_accuracy: 0.9922\n",
      "Epoch 20/20\n",
      "95/95 [==============================] - 207s 2s/step - loss: 0.0266 - accuracy: 0.9918 - val_loss: 0.0253 - val_accuracy: 0.9922\n"
     ]
    }
   ],
   "source": [
    "# train our model\n",
    "H = model.fit(aug.flow(trainX, trainY, batch_size=BS),\n",
    "             steps_per_epoch = len(trainX)//BS,\n",
    "             validation_data = (testX, testY),\n",
    "             validation_steps = len(testX) // BS,\n",
    "             epochs = EPOCHS)"
   ]
  },
  {
   "cell_type": "code",
   "execution_count": 26,
   "id": "715371cd",
   "metadata": {},
   "outputs": [
    {
     "name": "stderr",
     "output_type": "stream",
     "text": [
      "C:\\Users\\Aniket\\anaconda3\\envs\\deeplearning\\lib\\site-packages\\tensorflow\\python\\keras\\utils\\generic_utils.py:494: CustomMaskWarning: Custom mask layers require a config and must override get_config. When loading, the custom mask layer must be passed to the custom_objects argument.\n",
      "  warnings.warn('Custom mask layers require a config and must override '\n"
     ]
    }
   ],
   "source": [
    "model.save('facemask.h5')"
   ]
  },
  {
   "cell_type": "code",
   "execution_count": 2,
   "id": "322e954b",
   "metadata": {},
   "outputs": [],
   "source": [
    "from tensorflow.keras.models import load_model"
   ]
  },
  {
   "cell_type": "code",
   "execution_count": 3,
   "id": "7ba1cacf",
   "metadata": {},
   "outputs": [],
   "source": [
    "model = load_model('facemask.h5')"
   ]
  },
  {
   "cell_type": "code",
   "execution_count": 24,
   "id": "fb6dd01f",
   "metadata": {},
   "outputs": [],
   "source": [
    "predicts = model.predict(testX, batch_size=BS)"
   ]
  },
  {
   "cell_type": "code",
   "execution_count": 25,
   "id": "5e2865c1",
   "metadata": {},
   "outputs": [],
   "source": [
    "predicts = np.argmax(predicts, axis=1)"
   ]
  },
  {
   "cell_type": "code",
   "execution_count": 28,
   "id": "37868c09",
   "metadata": {},
   "outputs": [
    {
     "name": "stderr",
     "output_type": "stream",
     "text": [
      "C:\\Users\\Aniket\\anaconda3\\envs\\deeplearning\\lib\\site-packages\\tensorflow\\python\\keras\\utils\\generic_utils.py:494: CustomMaskWarning: Custom mask layers require a config and must override get_config. When loading, the custom mask layer must be passed to the custom_objects argument.\n",
      "  warnings.warn('Custom mask layers require a config and must override '\n"
     ]
    }
   ],
   "source": [
    "model.save(\"facemaskdetect.h5\")"
   ]
  },
  {
   "cell_type": "code",
   "execution_count": null,
   "id": "e45d6d46",
   "metadata": {},
   "outputs": [],
   "source": [
    " "
   ]
  }
 ],
 "metadata": {
  "kernelspec": {
   "display_name": "Python 3",
   "language": "python",
   "name": "python3"
  },
  "language_info": {
   "codemirror_mode": {
    "name": "ipython",
    "version": 3
   },
   "file_extension": ".py",
   "mimetype": "text/x-python",
   "name": "python",
   "nbconvert_exporter": "python",
   "pygments_lexer": "ipython3",
   "version": "3.9.6"
  }
 },
 "nbformat": 4,
 "nbformat_minor": 5
}
